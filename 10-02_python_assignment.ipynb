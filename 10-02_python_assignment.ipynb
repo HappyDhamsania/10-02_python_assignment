{
 "cells": [
  {
   "cell_type": "markdown",
   "id": "69dd98e3-972d-4dd0-860f-82f47d6306e2",
   "metadata": {},
   "source": [
    "Q1. Which function is used to open a file? What are the different modes of opening a file? Explain each mode\n",
    "of file opening."
   ]
  },
  {
   "cell_type": "markdown",
   "id": "a42f60c5-d3fc-419e-aa0f-b2bee0004cf6",
   "metadata": {},
   "source": [
    "in Python, we use the open() function to open files."
   ]
  },
  {
   "cell_type": "markdown",
   "id": "b275b50c-6afa-4c01-a293-dbcc57862ff3",
   "metadata": {},
   "source": [
    "There are four different modes for opening a file:\n",
    "\n",
    "\"r\" - Read - Default value. Opens a file for reading, error if the file does not exist\n",
    "\n",
    "\"a\" - Append - Opens a file for appending, creates the file if it does not exist\n",
    "\n",
    "\"w\" - Write - Opens a file for writing, creates the file if it does not exist\n",
    "\n",
    "\"x\" - Create - Creates the specified file, returns an error if the file exists\n",
    "\n",
    "\n",
    "\n",
    "In addition specify if the file should be handled as binary or text mode:\n",
    "\n",
    "\"t\" - Text - Default value. Text mode\n",
    "\n",
    "\"b\" - Binary - Binary mode (e.g. images)"
   ]
  },
  {
   "cell_type": "code",
   "execution_count": 6,
   "id": "9371ed44-5948-4b87-b161-5b77f00c3b1a",
   "metadata": {},
   "outputs": [
    {
     "ename": "FileExistsError",
     "evalue": "[Errno 17] File exists: 'myfile.txt'",
     "output_type": "error",
     "traceback": [
      "\u001b[0;31m---------------------------------------------------------------------------\u001b[0m",
      "\u001b[0;31mFileExistsError\u001b[0m                           Traceback (most recent call last)",
      "Cell \u001b[0;32mIn[6], line 1\u001b[0m\n\u001b[0;32m----> 1\u001b[0m f \u001b[38;5;241m=\u001b[39m \u001b[38;5;28;43mopen\u001b[39;49m\u001b[43m(\u001b[49m\u001b[38;5;124;43m\"\u001b[39;49m\u001b[38;5;124;43mmyfile.txt\u001b[39;49m\u001b[38;5;124;43m\"\u001b[39;49m\u001b[43m,\u001b[49m\u001b[43m \u001b[49m\u001b[38;5;124;43m\"\u001b[39;49m\u001b[38;5;124;43mx\u001b[39;49m\u001b[38;5;124;43m\"\u001b[39;49m\u001b[43m)\u001b[49m\n",
      "File \u001b[0;32m/opt/conda/lib/python3.10/site-packages/IPython/core/interactiveshell.py:282\u001b[0m, in \u001b[0;36m_modified_open\u001b[0;34m(file, *args, **kwargs)\u001b[0m\n\u001b[1;32m    275\u001b[0m \u001b[38;5;28;01mif\u001b[39;00m file \u001b[38;5;129;01min\u001b[39;00m {\u001b[38;5;241m0\u001b[39m, \u001b[38;5;241m1\u001b[39m, \u001b[38;5;241m2\u001b[39m}:\n\u001b[1;32m    276\u001b[0m     \u001b[38;5;28;01mraise\u001b[39;00m \u001b[38;5;167;01mValueError\u001b[39;00m(\n\u001b[1;32m    277\u001b[0m         \u001b[38;5;124mf\u001b[39m\u001b[38;5;124m\"\u001b[39m\u001b[38;5;124mIPython won\u001b[39m\u001b[38;5;124m'\u001b[39m\u001b[38;5;124mt let you open fd=\u001b[39m\u001b[38;5;132;01m{\u001b[39;00mfile\u001b[38;5;132;01m}\u001b[39;00m\u001b[38;5;124m by default \u001b[39m\u001b[38;5;124m\"\u001b[39m\n\u001b[1;32m    278\u001b[0m         \u001b[38;5;124m\"\u001b[39m\u001b[38;5;124mas it is likely to crash IPython. If you know what you are doing, \u001b[39m\u001b[38;5;124m\"\u001b[39m\n\u001b[1;32m    279\u001b[0m         \u001b[38;5;124m\"\u001b[39m\u001b[38;5;124myou can use builtins\u001b[39m\u001b[38;5;124m'\u001b[39m\u001b[38;5;124m open.\u001b[39m\u001b[38;5;124m\"\u001b[39m\n\u001b[1;32m    280\u001b[0m     )\n\u001b[0;32m--> 282\u001b[0m \u001b[38;5;28;01mreturn\u001b[39;00m \u001b[43mio_open\u001b[49m\u001b[43m(\u001b[49m\u001b[43mfile\u001b[49m\u001b[43m,\u001b[49m\u001b[43m \u001b[49m\u001b[38;5;241;43m*\u001b[39;49m\u001b[43margs\u001b[49m\u001b[43m,\u001b[49m\u001b[43m \u001b[49m\u001b[38;5;241;43m*\u001b[39;49m\u001b[38;5;241;43m*\u001b[39;49m\u001b[43mkwargs\u001b[49m\u001b[43m)\u001b[49m\n",
      "\u001b[0;31mFileExistsError\u001b[0m: [Errno 17] File exists: 'myfile.txt'"
     ]
    }
   ],
   "source": [
    "f = open(\"myfile.txt\", \"x\")"
   ]
  },
  {
   "cell_type": "code",
   "execution_count": 7,
   "id": "f173d53e-6f84-457b-a70f-23417dedc31e",
   "metadata": {},
   "outputs": [],
   "source": [
    "#To open a file for reading it is enough to specify the name of the file:\n",
    "\n",
    "f = open(\"myfile.txt\")"
   ]
  },
  {
   "cell_type": "code",
   "execution_count": 8,
   "id": "1be6f9bf-5779-4f94-8594-6371929b9118",
   "metadata": {},
   "outputs": [],
   "source": [
    "#The code above is the same as:\n",
    "\n",
    "f = open(\"myfile.txt\", \"rt\")"
   ]
  },
  {
   "cell_type": "code",
   "execution_count": 9,
   "id": "adf56979-7b6e-4b87-a405-7760686a3d67",
   "metadata": {},
   "outputs": [
    {
     "name": "stdout",
     "output_type": "stream",
     "text": [
      "Hello! Welcome to myfile.txt\n",
      "This file is for testing purposes.\n",
      "Good Luck!\n"
     ]
    }
   ],
   "source": [
    "#The open() function returns a file object, which has a read() method for reading the content of the file:\n",
    "\n",
    "f = open(\"myfile.txt\", \"r\")\n",
    "print(f.read())"
   ]
  },
  {
   "cell_type": "code",
   "execution_count": 12,
   "id": "f918bd89-2a94-4763-b970-d764a48f0b17",
   "metadata": {},
   "outputs": [],
   "source": [
    "#Open the file \"myfile.txt\" and append content to the file:\n",
    "\n",
    "f = open(\"myfile.txt\", \"a\")\n",
    "f.write(\"Now the file has more content!\")\n",
    "f.close()"
   ]
  },
  {
   "cell_type": "code",
   "execution_count": 13,
   "id": "d2f7cef0-e3f5-4faf-bf4e-d88ed42015fc",
   "metadata": {},
   "outputs": [
    {
     "name": "stdout",
     "output_type": "stream",
     "text": [
      "Hello! Welcome to myfile.txt\n",
      "This file is for testing purposes.\n",
      "Good Luck!Now the file has more content!Now the file has more content!\n"
     ]
    }
   ],
   "source": [
    "#open and read the file after the appending:\n",
    "\n",
    "f = open(\"myfile.txt\", \"r\")\n",
    "print(f.read())"
   ]
  },
  {
   "cell_type": "code",
   "execution_count": 15,
   "id": "faf13592-0071-47e8-9f59-bb2e27775cd7",
   "metadata": {},
   "outputs": [],
   "source": [
    "#Open the file \"myfile.txt\" and overwrite the content:\n",
    "\n",
    "f = open(\"myfile.txt\", \"w\")\n",
    "f.write(\"oops! I have deleted the content!\")\n",
    "f.close()"
   ]
  },
  {
   "cell_type": "code",
   "execution_count": 16,
   "id": "7f741f65-684f-4f62-82fe-2234f8429ecd",
   "metadata": {},
   "outputs": [
    {
     "name": "stdout",
     "output_type": "stream",
     "text": [
      "oops! I have deleted the content!\n"
     ]
    }
   ],
   "source": [
    "#open and read the file after the overwriting:\n",
    "\n",
    "f = open(\"myfile.txt\", \"r\")\n",
    "print(f.read())"
   ]
  },
  {
   "cell_type": "markdown",
   "id": "95289d31-d31d-4bbb-b2b6-3a905e9c7d1f",
   "metadata": {},
   "source": [
    "Q2. Why close() function is used? Why is it important to close a file?"
   ]
  },
  {
   "cell_type": "markdown",
   "id": "6f1e5bbb-2716-4eec-ba78-2275490e325d",
   "metadata": {},
   "source": [
    "The close() fuction used to close an open file."
   ]
  },
  {
   "cell_type": "markdown",
   "id": "faa74d54-4e3c-4651-aab8-9f567e062748",
   "metadata": {},
   "source": [
    "Because files are limited resources managed by the operating system, making sure files are closed after use will protect against hard-to-debug issues like running out of file handles or experiencing corrupted data. and sometimes changes made to a file may not show until you close the file."
   ]
  },
  {
   "cell_type": "markdown",
   "id": "adb56077-45c6-4f7f-a661-9ae9f3e0aa2c",
   "metadata": {},
   "source": [
    "Q3. Write a python program to create a text file. Write ‘I want to become a Data Scientist’ in that file. Then\n",
    "close the file. Open this file and read the content of the file."
   ]
  },
  {
   "cell_type": "code",
   "execution_count": 17,
   "id": "d96dc67a-36b5-4eba-8abf-5fc189ccfd50",
   "metadata": {},
   "outputs": [],
   "source": [
    "f = open(\"testfile.txt\", \"w\")\n",
    "f.write(\"I want to become a Data Scientist\")\n",
    "f.close()"
   ]
  },
  {
   "cell_type": "code",
   "execution_count": 19,
   "id": "79ab4d3d-1787-401b-aeb6-d863505f0418",
   "metadata": {},
   "outputs": [
    {
     "name": "stdout",
     "output_type": "stream",
     "text": [
      "I want to become a Data Scientist\n"
     ]
    }
   ],
   "source": [
    "f = open(\"testfile.txt\", \"r\")\n",
    "print(f.read())\n",
    "f.close()"
   ]
  },
  {
   "cell_type": "markdown",
   "id": "5715702a-81ee-4efd-a56d-612558fbb923",
   "metadata": {},
   "source": [
    "Q4. Explain the following with python code: read(), readline() and readlines()."
   ]
  },
  {
   "cell_type": "code",
   "execution_count": 23,
   "id": "bed99dea-b701-4e26-9145-ec378ca5e7b4",
   "metadata": {},
   "outputs": [],
   "source": [
    "f = open(\"demofile.txt\", \"w\")\n",
    "f.write(\"\"\"This is a demo file to show you how read, readline and readlines work in pyhton text file.\n",
    "        this is a very first line\n",
    "        this is a second line\n",
    "        this is a third line\"\"\")\n",
    "f.close()"
   ]
  },
  {
   "cell_type": "code",
   "execution_count": 24,
   "id": "7aecbb79-0590-46b0-98db-942d37915895",
   "metadata": {},
   "outputs": [
    {
     "name": "stdout",
     "output_type": "stream",
     "text": [
      "This is a demo file to show you how read, readline and readlines work in pyhton text file.\n",
      "        this is a very first line\n",
      "        this is a second line\n",
      "        this is a third line\n"
     ]
    }
   ],
   "source": [
    "#The open() function returns a file object, which has a read() method for reading the content of the file:\n",
    "\n",
    "f = open(\"demofile.txt\", \"r\")\n",
    "print(f.read())\n",
    "f.close()"
   ]
  },
  {
   "cell_type": "code",
   "execution_count": 25,
   "id": "6ecd4f45-d1d9-4050-bb59-0ec885fd7794",
   "metadata": {},
   "outputs": [
    {
     "name": "stdout",
     "output_type": "stream",
     "text": [
      "This is a demo file to show you how read, readline and readlines work in pyhton text file.\n",
      "\n"
     ]
    }
   ],
   "source": [
    "#To read one line of the file:\n",
    "\n",
    "f = open(\"demofile.txt\", \"r\")\n",
    "print(f.readline())\n",
    "f.close()"
   ]
  },
  {
   "cell_type": "code",
   "execution_count": 26,
   "id": "3f60b143-c4d4-4e1c-aa12-029c4d3a237c",
   "metadata": {},
   "outputs": [
    {
     "name": "stdout",
     "output_type": "stream",
     "text": [
      "['This is a demo file to show you how read, readline and readlines work in pyhton text file.\\n', '        this is a very first line\\n', '        this is a second line\\n', '        this is a third line']\n"
     ]
    }
   ],
   "source": [
    "#To read all line of the file:\n",
    "\n",
    "f = open(\"demofile.txt\", \"r\")\n",
    "print(f.readlines())\n",
    "f.close()"
   ]
  },
  {
   "cell_type": "markdown",
   "id": "04f474c3-8790-4e7e-9f50-fd8ea9ef46f3",
   "metadata": {},
   "source": [
    "Q5. Explain why with statement is used with open(). What is the advantage of using with statement and\n",
    "open() together?"
   ]
  },
  {
   "cell_type": "markdown",
   "id": "cc0ff142-eaca-44b0-a959-178c1e18abfe",
   "metadata": {},
   "source": [
    "The with statement works with the open() function to open a file. Unlike open() where you have to close the file with the close() method, the with statement closes the file for you without you telling it to. This is because the with statement calls 2 built-in methods behind the scene – __enter()__ and __exit()__ ."
   ]
  },
  {
   "cell_type": "markdown",
   "id": "04d6ec02-4af5-44fe-a835-47043fb5f0c4",
   "metadata": {},
   "source": [
    "Some advantages of using with statement and open() together are:\n",
    "\n",
    "~It makes resource management safer\n",
    "~Cleans up the code compared to try…finally\n",
    "~Helps in avoiding resource leaks"
   ]
  },
  {
   "cell_type": "markdown",
   "id": "80fc26ea-9bf0-432f-bd18-d106558e1eeb",
   "metadata": {},
   "source": [
    "Q6. Explain the write() and writelines() functions. Give a suitable example."
   ]
  },
  {
   "cell_type": "markdown",
   "id": "901c6227-8362-493d-bdb8-4d1370a6096b",
   "metadata": {},
   "source": [
    "The write() method accepts a string as an argument and writes this string to the text file. Whereas, the writelines() method accepts an iterable and a string or the list of strings as an argument and writes these strings to the text file. If you provide a list of strings to the write() method, then it will raise an exception."
   ]
  },
  {
   "cell_type": "code",
   "execution_count": 28,
   "id": "65b40fff-a827-4b08-b25c-18d4abf29e07",
   "metadata": {},
   "outputs": [
    {
     "ename": "TypeError",
     "evalue": "write() argument must be str, not list",
     "output_type": "error",
     "traceback": [
      "\u001b[0;31m---------------------------------------------------------------------------\u001b[0m",
      "\u001b[0;31mTypeError\u001b[0m                                 Traceback (most recent call last)",
      "Cell \u001b[0;32mIn[28], line 12\u001b[0m\n\u001b[1;32m      9\u001b[0m full_string \u001b[38;5;241m=\u001b[39m [first_string, second_string, third_string, fourth_string, fifth_string]\n\u001b[1;32m     11\u001b[0m new_file \u001b[38;5;241m=\u001b[39m \u001b[38;5;28mopen\u001b[39m(\u001b[38;5;124m\"\u001b[39m\u001b[38;5;124mdemofile1.txt\u001b[39m\u001b[38;5;124m\"\u001b[39m, \u001b[38;5;124m'\u001b[39m\u001b[38;5;124mw\u001b[39m\u001b[38;5;124m'\u001b[39m)\n\u001b[0;32m---> 12\u001b[0m \u001b[43mnew_file\u001b[49m\u001b[38;5;241;43m.\u001b[39;49m\u001b[43mwrite\u001b[49m\u001b[43m(\u001b[49m\u001b[43mfull_string\u001b[49m\u001b[43m)\u001b[49m\n\u001b[1;32m     13\u001b[0m new_file\u001b[38;5;241m.\u001b[39mclose()\n",
      "\u001b[0;31mTypeError\u001b[0m: write() argument must be str, not list"
     ]
    }
   ],
   "source": [
    "# Write function\n",
    "\n",
    "first_string = \"Hello\"\n",
    "second_string = \"World!\"\n",
    "third_string = \"I am \"\n",
    "fourth_string = \"learning\"\n",
    "fifth_string = \"Python\"\n",
    "\n",
    "full_string = [first_string, second_string, third_string, fourth_string, fifth_string]\n",
    "\n",
    "new_file = open(\"demofile1.txt\", 'w')\n",
    "new_file.write(full_string)\n",
    "new_file.close()\n"
   ]
  },
  {
   "cell_type": "code",
   "execution_count": 32,
   "id": "01c9b995-e685-45e6-87a7-721b2033811a",
   "metadata": {},
   "outputs": [],
   "source": [
    "# Writelines function\n",
    "\n",
    "first_string = \"Hello\"\n",
    "second_string = \"World!\"\n",
    "third_string = \"I am \"\n",
    "fourth_string = \"learning\"\n",
    "fifth_string = \"Python\"\n",
    "\n",
    "full_string = [first_string, second_string, third_string, fourth_string, fifth_string]\n",
    "\n",
    "new_file = open(\"demofile1.txt\", 'w')\n",
    "new_file.writelines(full_string)\n",
    "new_file.close()"
   ]
  },
  {
   "cell_type": "code",
   "execution_count": 35,
   "id": "d7ed4d07-ac9a-49f7-8899-0e024ed84708",
   "metadata": {},
   "outputs": [
    {
     "name": "stdout",
     "output_type": "stream",
     "text": [
      "HelloWorld!I am learningPython\n"
     ]
    }
   ],
   "source": [
    "new_file = open(\"demofile1.txt\", 'r')\n",
    "new_file = print(new_file.read())"
   ]
  },
  {
   "cell_type": "code",
   "execution_count": null,
   "id": "570a754a-966f-44db-9911-16cdcd649f70",
   "metadata": {},
   "outputs": [],
   "source": []
  }
 ],
 "metadata": {
  "kernelspec": {
   "display_name": "Python 3 (ipykernel)",
   "language": "python",
   "name": "python3"
  },
  "language_info": {
   "codemirror_mode": {
    "name": "ipython",
    "version": 3
   },
   "file_extension": ".py",
   "mimetype": "text/x-python",
   "name": "python",
   "nbconvert_exporter": "python",
   "pygments_lexer": "ipython3",
   "version": "3.10.8"
  }
 },
 "nbformat": 4,
 "nbformat_minor": 5
}
